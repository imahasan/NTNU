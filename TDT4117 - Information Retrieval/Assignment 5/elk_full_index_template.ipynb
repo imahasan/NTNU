{
 "cells": [
  {
   "cell_type": "code",
   "execution_count": null,
   "metadata": {},
   "outputs": [],
   "source": [
    "!pip install elasticsearch"
   ]
  },
  {
   "cell_type": "code",
   "execution_count": null,
   "metadata": {
    "collapsed": false,
    "jupyter": {
     "outputs_hidden": false
    }
   },
   "outputs": [],
   "source": [
    "from datetime import datetime\n",
    "from elasticsearch import Elasticsearch\n",
    "\n",
    "ELASTIC_PASSWORD = \"p2iFCHUbC7ze1QoIMVw\"\n",
    "\n",
    "es = Elasticsearch(\"http://elasticsearch:9200\",\n",
    "                    basic_auth=(\"elastic\", ELASTIC_PASSWORD))\n",
    "\n",
    "es.info()"
   ]
  },
  {
   "cell_type": "code",
   "execution_count": null,
   "metadata": {
    "collapsed": false,
    "jupyter": {
     "outputs_hidden": false
    }
   },
   "outputs": [],
   "source": [
    "!mkdir enron && cd enron && wget https://www.cs.cmu.edu/~enron/enron_mail_20150507.tar.gz  && tar xf enron_mail_20150507.tar.gz"
   ]
  },
  {
   "cell_type": "code",
   "execution_count": null,
   "metadata": {
    "collapsed": false,
    "jupyter": {
     "outputs_hidden": false
    }
   },
   "outputs": [],
   "source": [
    "from pathlib import Path\n",
    "import shutil\n",
    "\n",
    "files = Path(\"enron/maildir\").glob(\"**/*\")\n",
    "\n",
    "# limit number of email to 100000\n",
    "count = 0\n",
    "for i, f in enumerate(files):\n",
    "    if count >= 100000:\n",
    "        break\n",
    "    if f.is_file():\n",
    "        with open(f, \"r\") as text:\n",
    "            try:\n",
    "                text.read()\n",
    "                fn = str(f).replace('enron', 'enron_short')\n",
    "                Path(fn).mkdir(parents=True, exist_ok=True)\n",
    "                shutil.move(f, fn)\n",
    "                count += 1\n",
    "            except:\n",
    "                print(f\"skipping: {i} - {f}\")"
   ]
  },
  {
   "cell_type": "code",
   "execution_count": null,
   "metadata": {
    "collapsed": false,
    "jupyter": {
     "outputs_hidden": false
    }
   },
   "outputs": [],
   "source": [
    "!rm -rf enron/maildir"
   ]
  },
  {
   "cell_type": "code",
   "execution_count": null,
   "metadata": {
    "collapsed": false,
    "jupyter": {
     "outputs_hidden": false
    }
   },
   "outputs": [],
   "source": [
    "# TODO index emails structured"
   ]
  }
 ],
 "metadata": {
  "kernelspec": {
   "display_name": "Python 3 (ipykernel)",
   "language": "python",
   "name": "python3"
  },
  "language_info": {
   "codemirror_mode": {
    "name": "ipython",
    "version": 3
   },
   "file_extension": ".py",
   "mimetype": "text/x-python",
   "name": "python",
   "nbconvert_exporter": "python",
   "pygments_lexer": "ipython3",
   "version": "3.10.6"
  },
  "vscode": {
   "interpreter": {
    "hash": "f5fbe6a7cc4fd11d0aa2d82111a365c1f6a48db9defb7c57e0e7b9db8bd685a2"
   }
  }
 },
 "nbformat": 4,
 "nbformat_minor": 4
}
